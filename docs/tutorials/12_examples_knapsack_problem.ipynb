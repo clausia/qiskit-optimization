{
 "cells": [
  {
   "cell_type": "markdown",
   "id": "69463ecf",
   "metadata": {
    "id": "69463ecf"
   },
   "source": [
    "# Knapsack problem"
   ]
  },
  {
   "cell_type": "markdown",
   "id": "acaa3e17",
   "metadata": {
    "id": "acaa3e17"
   },
   "source": [
    "## Introduction\n",
    "\n",
    "It is crucial for humans to make decisions all the time, with different levels of importance and complexity. These decisions are usually based on emotions or personal taste, however we cannot always allow these subjective characteristics to be the ones that determine the results of a decision. Therefore, a quantitative formulation that takes into account all the factors that influence a decision is something desired.\n",
    "\n",
    "In order to meet this goal it must be possible to represent the effect of any decision by numerical values. In the most basic case the outcome of the decision can be measured by a single value representing gain, profit, loss, cost or some other category of data. The comparison of these values induces a total order on the set of all options which are available for a decision. Finding the option with the highest or lowest value can be difficult because the set of available options may be extremely large and/or not explicitly known.\n",
    "\n",
    "The simplest possible form of a decision is the choice between two alternatives. Such a binary decision is formulated in a quantitative model as a binary variable $x \\in \\{0, 1\\}$ with the obvious meaning that $x = 1$ means taking the first alternative whereas $x = 0$ indicates the rejection of the first alternative and hence the selection of the second option.\n",
    "\n",
    "In the basic version of a linear decision model, the outcome of the complete decision process is evaluated by a linear combination of the values associated with each one of the binary decisions. In order to take pairwise interdependencies between decisions into account also a quadratic function can be used to represent the outcome of a decision process.\n",
    "\n",
    "## Model\n",
    "\n",
    "Formally speaking, the linear decision model is defined by $n$ binary variables $x_j \\in \\{0, 1\\}$ which correspond to the selection in the $j$th binary decision and by profit values $p_j$ which indicate the difference of value attained by choosing the first alternative, i.e. $x_j = 1$, instead of the second alternative ($x_j = 0$). Without loss of generality we can assume that after a suitable assignment of the two options to the two cases $x_j = 1$ and $x_j = 0$, we always have $p_j \\geq 0$. The overall profit value associated with a particular choice for all $N$ binary decisions is given by the sum of all values $p_j$ for all decisions where the first alternative was selected.\n",
    "\n",
    "In this model the feasibility of a selection of alternatives is determined by a capacity restriction in the following way. In every binary decision $j$ the selection of the first alternative ($x_j = 1$) requires a _weight_ or _resource_ $w_j$ whereas\n",
    "choosing the second alternative ($x_j = 0$) does not. A selection of alternatives is feasible if the sum of weights over all binary decisions does not exceed a given threshold capacity value $W$ (sometimes called $c$). Considering this decision process as an optimization problem, where the overall profit should be as large as possible, yields the **knapsack problem (KP)**.\n",
    "\n",
    "This characteristic of the problem gives rise to the following interpretation of KP which is more colorful than the combination of binary decision problems. Consider a mountaineer who is packing her knapsack (or rucksack) for a mountain tour and has to decide which items she should take with her. She has a large number of objects available which may be useful on her tour. Each of these items numbered from $1$ to $N$ would give her a certain amount of comfort or benefit which is measured by a positive number $p_j$. Of course, the weight $w_j$ of every object which the mountaineer puts into her knapsack increases the load she has to carry. For obvious reasons, she wants to limit the total weight of her knapsack and hence fixes the maximum load by the capacity value $W$.\n",
    "\n",
    "## 0-1 knapsack problem\n",
    "\n",
    "The 0-1 knapsack problem (KP), which restricts the number $x_j$ of copies of each kind of item to zero or one, can be formally defined as follows: We are given an instance of the knapsack problem with item set $N'=\\{1,\\dots,N\\}$, consisting of $N$ items, the $j$th with profit $p_j$ and weight $w_j$, and the capacity value $W$. (Usually, all these values are taken from the positive integer numbers). Then the objective is to select a subset of $N'$ such that the total profit of the selected items is maximized and the total weight does not exceed $W$.\n",
    "\n",
    "\\begin{align*}\n",
    "\\texttt{maximize} \\;\\;\\; &\\sum_{j=1}^{N}p_jx_j\n",
    "\\label{eq:maximize} \\tag{1}\\\\\n",
    "\\texttt{subject to} \\;\\;\\; &\\sum_{j=1}^{N}w_jx_j \\leq W \\;,\n",
    "\\label{eq:subject_to} \\tag{2}\\\\\n",
    "&x_j\\in\\{0,1\\} \\; , \\;\\; j=1,\\dots,N\n",
    "\\label{eq:x_in_01_j} \\tag{3}\\\\\n",
    "\\end{align*}\n",
    "\n",
    "Let's denote the _optimal solution vector_ by $x^* = (x_i^*, \\dots ,x_N^*)$ and the _optimal solution value_ by $z^*$. The set $X^*$ denotes the _optimal solution set_, i.e. the set of items corresponding to the optimal solution vector.\n",
    "\n",
    "Problem KP is the simplest non-trivial integer programming model with binary variables, only one single constraint and only positive coefficients. Nevertheless, adding the integrality condition $\\eqref{eq:x_in_01_j}$ to the simple linear program $\\eqref{eq:maximize}$-$\\eqref{eq:subject_to}$ already puts KP into the class of \"difficult\" problems.\n",
    "\n",
    "## Applications beyond the mountaineer\n",
    "\n",
    "### Investment problem\n",
    "Considering the above characteristic of the mountaineer in the context of business instead of leisure leads to a second classical interpretation of KP as an investment problem. A wealthy individual or institutional investor has a certain amount of money $c$ available which she wants to put into profitable business projects. As a basis for her decisions, she compiles a long list of possible investments, the required amount $w_j$, and the expected net return $p_j$ over a fixed period. The aspect of risk is not explicitly taken into account here. Obviously, the combination of the binary decisions for every investment such that the overall return on investment is as large as possible can be formulated by KP.\n",
    "\n",
    "### Airline cargo business\n",
    "The dispatcher of a cargo airline has to decide which of the transportation requests posed by the customers he should fulfill, i.e. how to load a particular plane. His decision is based on a list of requests which contain the weight $w_j$ of every package and the rate per weight unit charged for each request. Note that this rate is not fixed, but depends on the particular long-term arrangements with every customer. Hence, the profit $p_j$ made by the company by accepting a request and by putting the corresponding package on the plane is not directly proportional to the weight of the package. Naturally, every plane has a specified maximum capacity $c$ which may not be exceeded by the total weight of the selected packages. This logistic problem is a direct analog to the packing of the mountaineers' knapsack.\n",
    "\n",
    "### Log cutting\n",
    "While the previous examples all contain elements of \"packing\", one may also view the KP as a \"cutting\" problem. Assume that a sawmill has to cut a log into shorter pieces. The pieces must however be cut into some predefined standard-lengths $w_j$, where each length has an associated selling price $p_j$. In order to maximize the profit of the log, the sawmill can formulate the problem as a KP where the length of the log defines the capacity $c$.\n",
    "\n",
    "## Variants of the knapsack problem\n",
    "\n",
    "Let us consider again the previous problem of the cargo airline dispatcher. In a different setting, the profit made by accepting a package may be directly proportional to its weight. In this case, the optimal loading of the plane is achieved by filling as much weight as possible into the plane, or equivalently setting $p_j = w_j$ in KP. The resulting optimization problem is known as the **Subset Sum Problem (SSP)** because we are looking for a subset of the values $w_j$ with the sum being as close as possible to, but not exceeding, the given target value $c$. Replacing the objective function (1) in KP we can define SSP: $\\texttt{maximize} \\; \\sum_{j=1}^{N}w_jx_j$.\n",
    "\n",
    "Also, it will frequently be the case that not all packages are different from each other. In particular, in practice, there may be given a number $b_j$ of identical copies of each item to be transported. If we either have to accept a request for all $b_j$ packages or reject them all, then we can generate an artificial request with weight $b_jw_j$ generating a profit of $b_jp_j$. If it is possible to select also only a subset of the $b_j$ items from a request, we can either represent each individual package by a binary variable or more efficiently represent the whole set of identical packages by an integer variable $x_j \\geq 0$ indicating the number of packages of this type which are put into the plane. In this case, the number of variables is equal to the number of different packages instead of the total number of packages. This may decrease the size of the model considerably if the numbers $b_j$ are relatively large. Formally, constraint (3) in KP is replaced by: $0\\leq x_j\\leq b_j, \\;\\; x_j \\;\\; \\texttt{integer},\\;\\;j=1,\\dots,N$. The resulting problem is called the **Bounded Knapsack Problem (BKP)**.\n",
    "\n",
    "A special variant thereof is the **Unbounded Knapsack Problem (UKP)**. It is also known as integer knapsack problem where instead of a fixed number $b_j$ a very large or an infinite amount of identical copies of each item is given. In this case, constraint (3) in KP is simply replaced by: $x_j\\geq 0, \\;\\; x_j \\;\\; \\texttt{integer},\\;\\;j=1,\\dots,N$.\n",
    "\n",
    "These are just a few examples of the variants of the Knapsack Problem. The problem has been widely studied and there are multiple applications, which are very diverse and interesting.\n"
   ]
  },
  {
   "cell_type": "markdown",
   "id": "12c6e1b9",
   "metadata": {
    "id": "12c6e1b9"
   },
   "source": [
    "## Classical approach\n",
    "\n",
    "A simple solution is to consider all subsets of items and calculate the total weight and value of all subsets. Consider the only subsets whose total weight is smaller than $W$. From all such subsets, pick the maximum value subset. This is a _recursion by brute-force_ algorithm or _exhaustive search_.\n",
    "\n",
    "As you may be imagining, this naive approach is not very good, since the same sub-problems are computed over and over again, generating redundancies. It has a time complexity of $O\\left(2^N\\right)$ and an auxiliary space of $O(1)$.\n",
    "\n",
    "A better approach is using Dynamic Programming (DP), re-computation of the same sub-problems can be avoided by constructing a temporary array in a bottom-up manner. \n",
    "\n",
    "By using Dynamic Programming, we will work considering the two cases as mentioned before (an element is selected or not). In a `K[][]` array (or table) let's consider all the possible weights from $1$ to $W$ as the columns and the resulting weights that can be kept as the rows.\n",
    "\n",
    "The cell `K[j][w]` will denote the maximum value of \"w-weight\" considering all values from $1$ to $j$. So if we consider `wj` (weight in _jth_ row) we can fill it in all columns which have \"weight values > `wj`\". Now two possibilities can take place: \n",
    "\n",
    "- Fill `wj` in the given column.\n",
    "- Do not fill `wj` in the given column.\n",
    "\n",
    "Now we have to take a maximum of these two possibilities, formally if we do not fill _jth_ weight in _wth_ column then the `K[j][w]` cell will be the same as the `K[j-1][w]` cell, but if we fill the weight, `K[j][w]` will be equal to the value of `wj` + value of the column weighing `wj` in the previous row. So we take the maximum of these two possibilities to fill the current cell. "
   ]
  },
  {
   "cell_type": "code",
   "execution_count": 1,
   "id": "1126fb79",
   "metadata": {
    "colab": {
     "base_uri": "https://localhost:8080/"
    },
    "id": "1126fb79",
    "outputId": "76e95b1e-e133-48b0-86c7-34e50590e496"
   },
   "outputs": [
    {
     "name": "stdout",
     "output_type": "stream",
     "text": [
      "30\n"
     ]
    }
   ],
   "source": [
    "# Dynamic Programming for 0-1 Knapsack problem\n",
    "# Returns the maximum value that can be put in a knapsack of capacity W\n",
    "\n",
    "\n",
    "def knapsackDP(W, wt, val, N):\n",
    "\n",
    "    K = [[0 for x in range(W + 1)] for x in range(N + 1)]\n",
    "\n",
    "    # Build table K[][] in bottom up manner\n",
    "    for j in range(N + 1):\n",
    "        for w in range(W + 1):\n",
    "            if j == 0 or w == 0:\n",
    "                K[j][w] = 0\n",
    "            elif wt[j - 1] <= w:\n",
    "                K[j][w] = max(val[j - 1] + K[j - 1][w - wt[j - 1]], K[j - 1][w])\n",
    "            else:\n",
    "                K[j][w] = K[j - 1][w]\n",
    "\n",
    "    return K[N][W]\n",
    "\n",
    "\n",
    "# Simple example\n",
    "val = [6, 10, 12, 5, 8]  # p_j\n",
    "wt = [5, 2, 1, 1, 4]  # w_j\n",
    "W = 7  # max weight\n",
    "N = len(val)  # number of items\n",
    "\n",
    "\n",
    "print(knapsackDP(W, wt, val, N))"
   ]
  },
  {
   "cell_type": "markdown",
   "id": "5cb8a111",
   "metadata": {
    "id": "5cb8a111"
   },
   "source": [
    "The running time of previous function is dominated by the $N+1$ iterations of the first for loop (since Python lists are 0-indexed), each of which contains at most $W + 1$ iterations where a new solution of a subproblem is computed. This yields an overall running time of $O(NW)$. Hence, we have presented a pseudo-polynomial algorithm for KP. The necessary space requirement of this implementation would also be $O(NW)$. It must pointed out that this function only computes the optimal solution value $z^*$ but does not explicitly return the corresponding optimal solution set $X^*$, which by the way corresponds to the selection of items $j = 2,3,5$ (with values $10$, $12$ and $8$ respectively)."
   ]
  },
  {
   "cell_type": "markdown",
   "id": "79432e3c",
   "metadata": {
    "id": "79432e3c"
   },
   "source": [
    "## Quantum approach\n",
    "\n",
    "The optimization problems in Qiskit are converted to a Hamiltonian interpretation in a generic way and are represented with the class `QuadraticProgram`. Qiskit's optimization module is responsible for mapping integer variables to qubits based on the work of [S. Karimi (2017)].\n",
    "\n",
    "A more in-depth explanation of how this works can be found in [Converters for Quadratic Programs](02_converters_for_quadratic_programs.ipynb).\n",
    "\n",
    "Within Qiskit Optimization there is the `Knapsack` class, with which a problem of this type can be defined to be solved in a quantum manner."
   ]
  },
  {
   "cell_type": "markdown",
   "id": "84e7c26e",
   "metadata": {
    "id": "84e7c26e"
   },
   "source": [
    "## Solve using Qiskit\n",
    "\n"
   ]
  },
  {
   "cell_type": "markdown",
   "id": "ee02278b",
   "metadata": {
    "id": "ee02278b"
   },
   "source": [
    "Let's make the needed imports:"
   ]
  },
  {
   "cell_type": "code",
   "execution_count": 2,
   "id": "fbecbc31",
   "metadata": {
    "id": "fbecbc31"
   },
   "outputs": [],
   "source": [
    "from qiskit_optimization.applications import Knapsack  # main class for this type of problem\n",
    "from qiskit.algorithms import QAOA, NumPyMinimumEigensolver\n",
    "from qiskit_optimization.algorithms import MinimumEigenOptimizer\n",
    "from qiskit.utils import algorithm_globals, QuantumInstance\n",
    "from qiskit import Aer, BasicAer"
   ]
  },
  {
   "cell_type": "markdown",
   "id": "c46b651d",
   "metadata": {
    "id": "c46b651d"
   },
   "source": [
    "Simple example: solve an instance of the knapsack problem with 5 items using different solvers."
   ]
  },
  {
   "cell_type": "code",
   "execution_count": 3,
   "id": "38d2ccfd",
   "metadata": {
    "id": "38d2ccfd"
   },
   "outputs": [],
   "source": [
    "values = [6, 10, 12, 5, 8]  # list of the values of items\n",
    "weights = [5, 2, 1, 1, 4]  # list of the weights of items\n",
    "max_weight = 7  # maximum weight capacity (knapsack capacity)\n",
    "\n",
    "# define the problem we want to solve\n",
    "problem = Knapsack(values=values, weights=weights, max_weight=max_weight)"
   ]
  },
  {
   "cell_type": "markdown",
   "id": "62467a19",
   "metadata": {
    "id": "62467a19"
   },
   "source": [
    "Convert the knapsack problem instance into a `QuadraticProgram`. See [Quadratic Programs](01_quadratic_program.ipynb) for details."
   ]
  },
  {
   "cell_type": "code",
   "execution_count": 4,
   "id": "0e4c13e3",
   "metadata": {
    "colab": {
     "base_uri": "https://localhost:8080/"
    },
    "id": "0e4c13e3",
    "outputId": "cabe5394-3721-4635-97d1-f7bd913458c7"
   },
   "outputs": [
    {
     "name": "stdout",
     "output_type": "stream",
     "text": [
      "\\ This file has been generated by DOcplex\n",
      "\\ ENCODING=ISO-8859-1\n",
      "\\Problem name: Knapsack\n",
      "\n",
      "Maximize\n",
      " obj: 6 x_0 + 10 x_1 + 12 x_2 + 5 x_3 + 8 x_4\n",
      "Subject To\n",
      " c0: 5 x_0 + 2 x_1 + x_2 + x_3 + 4 x_4 <= 7\n",
      "\n",
      "Bounds\n",
      " 0 <= x_0 <= 1\n",
      " 0 <= x_1 <= 1\n",
      " 0 <= x_2 <= 1\n",
      " 0 <= x_3 <= 1\n",
      " 0 <= x_4 <= 1\n",
      "\n",
      "Binaries\n",
      " x_0 x_1 x_2 x_3 x_4\n",
      "End\n",
      "\n"
     ]
    }
   ],
   "source": [
    "qp = problem.to_quadratic_program()\n",
    "\n",
    "# lets display the details of the QuadraticProgram\n",
    "print(qp)"
   ]
  },
  {
   "cell_type": "markdown",
   "id": "7bf4c9a8",
   "metadata": {
    "id": "7bf4c9a8"
   },
   "source": [
    "From the `QuadraticProgram` shown above, we can see that it defines 5 variables $x_j$ (0-indexed because that's how Python works) and that these are subject to the constraint $0 \\leq x_j \\leq 1$, since we want their values to be only chosen = $1$ or not chosen = $0$, as defined by equation (3).\n",
    "\n",
    "It also specifies what we want to maximize: $6 x_0 + 10 x_1 + 12 x_2 + 5 x_3 + 8 x_4$  as defined by equation (1), as well as the constraint: $3 x_0 + 2 x_1 + 1 x_2 + 1 x_3 + 4 x_4 <= 7$ must be applied as defined by equation (2)."
   ]
  },
  {
   "cell_type": "markdown",
   "id": "c616c86d",
   "metadata": {
    "id": "c616c86d"
   },
   "source": [
    "Now let's solve the problem with different optimizers provided by Qiskit. See [Minimum Eigen Optimizer](03_minimum_eigen_optimizer.ipynb) for details."
   ]
  },
  {
   "cell_type": "markdown",
   "id": "7ab1c8a4",
   "metadata": {
    "id": "7ab1c8a4"
   },
   "source": [
    "### Solve with `NumPyMinimumEigensolver`\n",
    "\n",
    "Let's use the `NumPyMinimumEigensolver` in order to find a reference solution:"
   ]
  },
  {
   "cell_type": "code",
   "execution_count": 5,
   "id": "b4221e9d",
   "metadata": {
    "colab": {
     "base_uri": "https://localhost:8080/"
    },
    "id": "b4221e9d",
    "outputId": "28c951fc-d9ab-4e16-c3a8-8ec6c659b86f"
   },
   "outputs": [
    {
     "name": "stdout",
     "output_type": "stream",
     "text": [
      "result:\n",
      " optimal function value: 30.0\n",
      "optimal value: [0. 1. 1. 0. 1.]\n",
      "status: SUCCESS\n",
      "\n",
      "solution:\n",
      " [1, 2, 4]\n"
     ]
    }
   ],
   "source": [
    "# Numpy Eigensolver\n",
    "\n",
    "meo = MinimumEigenOptimizer(min_eigen_solver=NumPyMinimumEigensolver())\n",
    "result = meo.solve(qp)\n",
    "print(\"result:\\n\", result)\n",
    "print(\"\\nsolution:\\n\", problem.interpret(result))"
   ]
  },
  {
   "cell_type": "markdown",
   "id": "10a6b89a",
   "metadata": {
    "id": "10a6b89a"
   },
   "source": [
    "In the `optimal value: [0. 1. 1. 0. 1.]` list, it is clear the choice of items that solve this _knspasack problem_, that is, items with values $10$, $12$ and $8$ respectively, which adds a total value within the mountaineers' knapsack equal to $30$."
   ]
  },
  {
   "cell_type": "markdown",
   "id": "b3d2ad80",
   "metadata": {
    "id": "b3d2ad80"
   },
   "source": [
    "### Solve with QAOA\n",
    "\n",
    "Now let's use the Quantum Approximate Optimization Algorithm (QAOA) to solve our knapsack problem."
   ]
  },
  {
   "cell_type": "code",
   "execution_count": 6,
   "id": "53348cbc",
   "metadata": {
    "colab": {
     "base_uri": "https://localhost:8080/"
    },
    "id": "53348cbc",
    "outputId": "62739d99-d462-4949-faab-2fbe335763e4"
   },
   "outputs": [
    {
     "name": "stdout",
     "output_type": "stream",
     "text": [
      "result:\n",
      " optimal function value: 30.0\n",
      "optimal value: [0. 1. 1. 0. 1.]\n",
      "status: SUCCESS\n",
      "\n",
      "solution:\n",
      " [1, 2, 4]\n",
      "\n",
      "time: 0.6243889331817627\n"
     ]
    }
   ],
   "source": [
    "# QAOA\n",
    "\n",
    "seed = 123\n",
    "algorithm_globals.random_seed = seed\n",
    "qinstance = QuantumInstance(\n",
    "    backend=Aer.get_backend(\"qasm_simulator\"), shots=1000, seed_simulator=seed, seed_transpiler=seed\n",
    ")\n",
    "\n",
    "meo = MinimumEigenOptimizer(min_eigen_solver=QAOA(reps=1, quantum_instance=qinstance))\n",
    "result = meo.solve(qp)\n",
    "print(\"result:\\n\", result)\n",
    "print(\"\\nsolution:\\n\", problem.interpret(result))\n",
    "print(\"\\ntime:\", result.min_eigen_solver_result.optimizer_time)"
   ]
  },
  {
   "cell_type": "markdown",
   "id": "8d951ec2",
   "metadata": {
    "id": "8d951ec2"
   },
   "source": [
    "As we can see, using both solvers we get the same result in our simple example problem:\n",
    "\n",
    "$$[1, 2, 4]$$\n",
    "\n",
    "This indicates that these items are those that without exceeding the maximum weight can be carried in the knapsack, and the values of the chosen items are maximized, these numbers are the indexes of the selected elements (remember that it is 0-indexed)."
   ]
  },
  {
   "cell_type": "markdown",
   "id": "0ea68f2a",
   "metadata": {
    "id": "0ea68f2a"
   },
   "source": [
    "### What about the Hamiltonian\n",
    "\n",
    "If you want to review the Hamiltonian that is generated during the resolution process (by the `MinimumEigenOptimizer`), it is necessary to carry out this intermediate step by ourselves, that is,"
   ]
  },
  {
   "cell_type": "code",
   "execution_count": 7,
   "id": "e241c846",
   "metadata": {
    "colab": {
     "base_uri": "https://localhost:8080/"
    },
    "id": "e241c846",
    "outputId": "cf3c0013-486b-4572-c187-73596fe42911"
   },
   "outputs": [
    {
     "name": "stdout",
     "output_type": "stream",
     "text": [
      "\\ This file has been generated by DOcplex\n",
      "\\ ENCODING=ISO-8859-1\n",
      "\\Problem name: Knapsack\n",
      "\n",
      "Minimize\n",
      " obj: - 2946 x_0 - 1186 x_1 - 600 x_2 - 593 x_3 - 2360 x_4 - 588 c0@int_slack@0\n",
      "      - 1176 c0@int_slack@1 - 2352 c0@int_slack@2 + [ 2100 x_0^2 + 1680 x_0*x_1\n",
      "      + 840 x_0*x_2 + 840 x_0*x_3 + 3360 x_0*x_4 + 840 x_0*c0@int_slack@0\n",
      "      + 1680 x_0*c0@int_slack@1 + 3360 x_0*c0@int_slack@2 + 336 x_1^2\n",
      "      + 336 x_1*x_2 + 336 x_1*x_3 + 1344 x_1*x_4 + 336 x_1*c0@int_slack@0\n",
      "      + 672 x_1*c0@int_slack@1 + 1344 x_1*c0@int_slack@2 + 84 x_2^2\n",
      "      + 168 x_2*x_3 + 672 x_2*x_4 + 168 x_2*c0@int_slack@0\n",
      "      + 336 x_2*c0@int_slack@1 + 672 x_2*c0@int_slack@2 + 84 x_3^2 + 672 x_3*x_4\n",
      "      + 168 x_3*c0@int_slack@0 + 336 x_3*c0@int_slack@1 + 672 x_3*c0@int_slack@2\n",
      "      + 1344 x_4^2 + 672 x_4*c0@int_slack@0 + 1344 x_4*c0@int_slack@1\n",
      "      + 2688 x_4*c0@int_slack@2 + 84 c0@int_slack@0^2\n",
      "      + 336 c0@int_slack@0*c0@int_slack@1 + 672 c0@int_slack@0*c0@int_slack@2\n",
      "      + 336 c0@int_slack@1^2 + 1344 c0@int_slack@1*c0@int_slack@2\n",
      "      + 1344 c0@int_slack@2^2 ]/2 + 2058\n",
      "Subject To\n",
      "\n",
      "Bounds\n",
      " 0 <= x_0 <= 1\n",
      " 0 <= x_1 <= 1\n",
      " 0 <= x_2 <= 1\n",
      " 0 <= x_3 <= 1\n",
      " 0 <= x_4 <= 1\n",
      " 0 <= c0@int_slack@0 <= 1\n",
      " 0 <= c0@int_slack@1 <= 1\n",
      " 0 <= c0@int_slack@2 <= 1\n",
      "\n",
      "Binaries\n",
      " x_0 x_1 x_2 x_3 x_4 c0@int_slack@0 c0@int_slack@1 c0@int_slack@2\n",
      "End\n",
      "\n"
     ]
    }
   ],
   "source": [
    "from qiskit_optimization.converters import QuadraticProgramToQubo\n",
    "\n",
    "# intermediate QUBO form of the optimization problem\n",
    "converter = QuadraticProgramToQubo()\n",
    "qubo = converter.convert(qp)\n",
    "\n",
    "# let's display the details of the QUBO form\n",
    "print(qubo)"
   ]
  },
  {
   "cell_type": "markdown",
   "id": "9408f8bc",
   "metadata": {
    "id": "9408f8bc"
   },
   "source": [
    "Let's see the Ising Hamiltonian of this problem:"
   ]
  },
  {
   "cell_type": "code",
   "execution_count": 8,
   "id": "76e5c5f4",
   "metadata": {
    "colab": {
     "base_uri": "https://localhost:8080/"
    },
    "id": "76e5c5f4",
    "outputId": "d787303a-6dd3-4359-be3c-822c1f56d4df"
   },
   "outputs": [
    {
     "name": "stdout",
     "output_type": "stream",
     "text": [
      "num qubits: 8, offset: 1071.5\n",
      "\n",
      "-504.0 * ZIIIIIII\n",
      "- 252.0 * IZIIIIII\n",
      "+ 168.0 * ZZIIIIII\n",
      "- 126.0 * IIZIIIII\n",
      "+ 84.0 * ZIZIIIII\n",
      "+ 42.0 * IZZIIIII\n",
      "- 500.0 * IIIZIIII\n",
      "+ 336.0 * ZIIZIIII\n",
      "+ 168.0 * IZIZIIII\n",
      "+ 84.0 * IIZZIIII\n",
      "- 123.5 * IIIIZIII\n",
      "+ 84.0 * ZIIIZIII\n",
      "+ 42.0 * IZIIZIII\n",
      "+ 21.0 * IIZIZIII\n",
      "+ 84.0 * IIIZZIII\n",
      "- 120.0 * IIIIIZII\n",
      "+ 84.0 * ZIIIIZII\n",
      "+ 42.0 * IZIIIZII\n",
      "+ 21.0 * IIZIIZII\n",
      "+ 84.0 * IIIZIZII\n",
      "+ 21.0 * IIIIZZII\n",
      "- 247.0 * IIIIIIZI\n",
      "+ 168.0 * ZIIIIIZI\n",
      "+ 84.0 * IZIIIIZI\n",
      "+ 42.0 * IIZIIIZI\n",
      "+ 168.0 * IIIZIIZI\n",
      "+ 42.0 * IIIIZIZI\n",
      "+ 42.0 * IIIIIZZI\n",
      "- 627.0 * IIIIIIIZ\n",
      "+ 420.0 * ZIIIIIIZ\n",
      "+ 210.0 * IZIIIIIZ\n",
      "+ 105.0 * IIZIIIIZ\n",
      "+ 420.0 * IIIZIIIZ\n",
      "+ 105.0 * IIIIZIIZ\n",
      "+ 105.0 * IIIIIZIZ\n",
      "+ 210.0 * IIIIIIZZ\n"
     ]
    }
   ],
   "source": [
    "# qubit Hamiltonian and offset\n",
    "operator, offset = qubo.to_ising()\n",
    "\n",
    "print(f\"num qubits: {operator.num_qubits}, offset: {offset}\\n\")\n",
    "\n",
    "print(operator)"
   ]
  },
  {
   "cell_type": "markdown",
   "id": "73ba05a6",
   "metadata": {
    "id": "73ba05a6"
   },
   "source": [
    "### Solve with VQE\n",
    "\n",
    "Another algorithm that we can apply to solve this optimization problem is the Variational Quantum Eigensolver (VQE)."
   ]
  },
  {
   "cell_type": "code",
   "execution_count": 9,
   "id": "3fba49e3",
   "metadata": {
    "id": "3fba49e3"
   },
   "outputs": [],
   "source": [
    "from qiskit.algorithms import VQE\n",
    "from qiskit.algorithms.optimizers import SPSA\n",
    "from qiskit.circuit.library import EfficientSU2"
   ]
  },
  {
   "cell_type": "code",
   "execution_count": 10,
   "id": "443c1aa0",
   "metadata": {
    "colab": {
     "base_uri": "https://localhost:8080/"
    },
    "id": "443c1aa0",
    "outputId": "d1f20cfb-b818-4bfd-8db2-e245e70c7dd2"
   },
   "outputs": [
    {
     "name": "stdout",
     "output_type": "stream",
     "text": [
      "result:\n",
      " optimal function value: 30.0\n",
      "optimal value: [0. 1. 1. 0. 1.]\n",
      "status: SUCCESS\n",
      "\n",
      "solution:\n",
      " [1, 2, 4]\n",
      "\n",
      "time: 10.62992787361145\n"
     ]
    }
   ],
   "source": [
    "# VQE\n",
    "\n",
    "seed = 123\n",
    "algorithm_globals.random_seed = seed\n",
    "qinstance = QuantumInstance(\n",
    "    backend=Aer.get_backend(\"qasm_simulator\"), shots=1000, seed_simulator=seed, seed_transpiler=seed\n",
    ")\n",
    "\n",
    "ansatz = EfficientSU2(operator.num_qubits, reps=2, entanglement=\"circular\")\n",
    "optimizer = SPSA(maxiter=15)\n",
    "\n",
    "meo = MinimumEigenOptimizer(\n",
    "    min_eigen_solver=VQE(ansatz=ansatz, optimizer=optimizer, quantum_instance=qinstance)\n",
    ")\n",
    "result = meo.solve(qp)\n",
    "print(\"result:\\n\", result)\n",
    "print(\"\\nsolution:\\n\", problem.interpret(result))\n",
    "print(\"\\ntime:\", result.min_eigen_solver_result.optimizer_time)"
   ]
  },
  {
   "cell_type": "markdown",
   "id": "XfDLpTqxGpT8",
   "metadata": {
    "id": "XfDLpTqxGpT8"
   },
   "source": [
    "## References\n",
    "\n",
    "- [H. Kellerer, U. Pferschy, D. Pisinger (2004). Knapsack Problems. Springer-Verlag Berlin Heidelberg. ISBN 978-3-642-07311-3](https://www.springer.com/gp/book/9783540402862)\n",
    "- [S. Martello, P. Toth (1990). Knapsack Problems: Algorithms and Computer Implementations. John Wiley & Sons Ltd. ISBN 0-471-92420-2](https://books.google.com/books/about/Knapsack_Problems.html?id=0dhQAAAAMAAJ)\n",
    "- [S. Karimi and P. Ronagh, Practical Integer-to-Binary Mapping for Quantum Annealers, Quantum Information Processing, Vol. 18, No. 4, 94 (2019)](https://arxiv.org/abs/1706.01945)"
   ]
  },
  {
   "cell_type": "code",
   "execution_count": 11,
   "id": "bd6ecbac",
   "metadata": {
    "colab": {
     "base_uri": "https://localhost:8080/",
     "height": 537
    },
    "id": "bd6ecbac",
    "outputId": "32f254fa-8962-4702-ae60-c58c15baa0ea"
   },
   "outputs": [
    {
     "data": {
      "text/html": [
       "<h3>Version Information</h3><table><tr><th>Qiskit Software</th><th>Version</th></tr><tr><td><code>qiskit-terra</code></td><td>0.19.1</td></tr><tr><td><code>qiskit-aer</code></td><td>0.9.1</td></tr><tr><td><code>qiskit-ignis</code></td><td>0.7.0</td></tr><tr><td><code>qiskit-ibmq-provider</code></td><td>0.18.2</td></tr><tr><td><code>qiskit-optimization</code></td><td>0.2.3</td></tr><tr><th>System information</th></tr><tr><td>Python version</td><td>3.7.12</td></tr><tr><td>Python compiler</td><td>GCC 7.5.0</td></tr><tr><td>Python build</td><td>default, Sep 10 2021 00:21:48</td></tr><tr><td>OS</td><td>Linux</td></tr><tr><td>CPUs</td><td>1</td></tr><tr><td>Memory (Gb)</td><td>12.686656951904297</td></tr><tr><td colspan='2'>Mon Dec 13 18:07:46 2021 UTC</td></tr></table>"
      ],
      "text/plain": [
       "<IPython.core.display.HTML object>"
      ]
     },
     "metadata": {},
     "output_type": "display_data"
    },
    {
     "data": {
      "text/html": [
       "<div style='width: 100%; background-color:#d5d9e0;padding-left: 10px; padding-bottom: 10px; padding-right: 10px; padding-top: 5px'><h3>This code is a part of Qiskit</h3><p>&copy; Copyright IBM 2017, 2021.</p><p>This code is licensed under the Apache License, Version 2.0. You may<br>obtain a copy of this license in the LICENSE.txt file in the root directory<br> of this source tree or at http://www.apache.org/licenses/LICENSE-2.0.<p>Any modifications or derivative works of this code must retain this<br>copyright notice, and modified files need to carry a notice indicating<br>that they have been altered from the originals.</p></div>"
      ],
      "text/plain": [
       "<IPython.core.display.HTML object>"
      ]
     },
     "metadata": {},
     "output_type": "display_data"
    }
   ],
   "source": [
    "import qiskit.tools.jupyter\n",
    "\n",
    "%qiskit_version_table\n",
    "%qiskit_copyright"
   ]
  },
  {
   "cell_type": "code",
   "execution_count": 11,
   "id": "1b2a8fd8",
   "metadata": {
    "id": "1b2a8fd8"
   },
   "outputs": [],
   "source": []
  }
 ],
 "metadata": {
  "colab": {
   "collapsed_sections": [],
   "name": "12_examples_knapsack_problem.ipynb",
   "provenance": []
  },
  "kernelspec": {
   "display_name": "Python 3",
   "language": "python",
   "name": "python3"
  },
  "language_info": {
   "codemirror_mode": {
    "name": "ipython",
    "version": 3
   },
   "file_extension": ".py",
   "mimetype": "text/x-python",
   "name": "python",
   "nbconvert_exporter": "python",
   "pygments_lexer": "ipython3",
   "version": "3.9.5"
  }
 },
 "nbformat": 4,
 "nbformat_minor": 5
}